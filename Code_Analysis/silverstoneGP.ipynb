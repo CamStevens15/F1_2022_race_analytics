{
 "cells": [
  {
   "cell_type": "code",
   "execution_count": null,
   "metadata": {},
   "outputs": [],
   "source": []
  }
 ],
 "metadata": {
  "kernelspec": {
   "display_name": "Python 3.9.7 ('Formula1')",
   "language": "python",
   "name": "python3"
  },
  "language_info": {
   "name": "python",
   "version": "3.9.7"
  },
  "orig_nbformat": 4,
  "vscode": {
   "interpreter": {
    "hash": "16ab1d32c753ecad9648ea13525cfa59257afbe310a1bf60298ebe7d43d66847"
   }
  }
 },
 "nbformat": 4,
 "nbformat_minor": 2
}
