{
 "cells": [
  {
   "cell_type": "code",
   "execution_count": null,
   "metadata": {},
   "outputs": [],
   "source": [
    "from driver_comparisons import  main, plot_driver_speed_change, get_driver_lap_comparison, fastest_lap_comparison, driver_gear_changes, get_driver_aws_data"
   ]
  }
 ],
 "metadata": {
  "interpreter": {
   "hash": "16ab1d32c753ecad9648ea13525cfa59257afbe310a1bf60298ebe7d43d66847"
  },
  "kernelspec": {
   "display_name": "Python 3.9.7 ('Formula1')",
   "language": "python",
   "name": "python3"
  },
  "language_info": {
   "name": "python",
   "version": "3.9.7"
  },
  "orig_nbformat": 4
 },
 "nbformat": 4,
 "nbformat_minor": 2
}
