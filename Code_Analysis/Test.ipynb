{
 "cells": [
  {
   "cell_type": "code",
   "execution_count": 1,
   "metadata": {},
   "outputs": [
    {
     "ename": "ModuleNotFoundError",
     "evalue": "No module named 'driver_comparisons'",
     "output_type": "error",
     "traceback": [
      "\u001b[0;31m---------------------------------------------------------------------------\u001b[0m",
      "\u001b[0;31mModuleNotFoundError\u001b[0m                       Traceback (most recent call last)",
      "\u001b[1;32mUntitled-1.ipynb Cell 1'\u001b[0m in \u001b[0;36m<module>\u001b[0;34m\u001b[0m\n\u001b[0;32m----> <a href='vscode-notebook-cell:Untitled-1.ipynb?jupyter-notebook#ch0000000untitled?line=0'>1</a>\u001b[0m \u001b[39mfrom\u001b[39;00m \u001b[39mdriver_comparisons\u001b[39;00m \u001b[39mimport\u001b[39;00m get_driver_from_session\n",
      "\u001b[0;31mModuleNotFoundError\u001b[0m: No module named 'driver_comparisons'"
     ]
    }
   ],
   "source": [
    "from driver_comparisons import get_driver_from_session"
   ]
  }
 ],
 "metadata": {
  "interpreter": {
   "hash": "16ab1d32c753ecad9648ea13525cfa59257afbe310a1bf60298ebe7d43d66847"
  },
  "kernelspec": {
   "display_name": "Python 3.9.7 ('Formula1')",
   "language": "python",
   "name": "python3"
  },
  "language_info": {
   "codemirror_mode": {
    "name": "ipython",
    "version": 3
   },
   "file_extension": ".py",
   "mimetype": "text/x-python",
   "name": "python",
   "nbconvert_exporter": "python",
   "pygments_lexer": "ipython3",
   "version": "3.9.7"
  },
  "orig_nbformat": 4
 },
 "nbformat": 4,
 "nbformat_minor": 2
}
